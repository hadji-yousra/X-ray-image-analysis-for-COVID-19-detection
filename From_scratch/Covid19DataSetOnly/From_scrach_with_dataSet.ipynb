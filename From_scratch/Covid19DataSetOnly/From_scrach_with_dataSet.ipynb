version https://git-lfs.github.com/spec/v1
oid sha256:fa37bbf7c453d100c43e484a22678d7bbe73016c9841ac337831baa825a2ab18
size 87609
